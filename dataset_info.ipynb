{
 "cells": [
  {
   "cell_type": "markdown",
   "id": "21e869e9",
   "metadata": {},
   "source": [
    "# Dataset Information"
   ]
  },
  {
   "cell_type": "markdown",
   "id": "c8b58fb3",
   "metadata": {},
   "source": [
    "Dataset summary table and example partition graphs presented in Section 3.1."
   ]
  },
  {
   "cell_type": "markdown",
   "id": "fa1d968f",
   "metadata": {},
   "source": [
    "1. [Summary Table](#Summary-Table)\n",
    "2. [PowN Partition Example](#PowN-Partition-Example)\n",
    "3. [DirY Partition Example](#DirY-Partition-Example)"
   ]
  },
  {
   "cell_type": "code",
   "execution_count": 6,
   "id": "f3953821",
   "metadata": {},
   "outputs": [
    {
     "name": "stdout",
     "output_type": "stream",
     "text": [
      "The autoreload extension is already loaded. To reload it, use:\n",
      "  %reload_ext autoreload\n"
     ]
    }
   ],
   "source": [
    "%load_ext autoreload\n",
    "%autoreload 2\n",
    "\n",
    "import numpy as np\n",
    "import pandas as pd\n",
    "import matplotlib.pyplot as plt\n",
    "import inspect,sys,os,re\n",
    "\n",
    "import datasets,partitions,utils"
   ]
  },
  {
   "cell_type": "markdown",
   "id": "a2dbc14c",
   "metadata": {},
   "source": [
    "## Vehicle Load dataset natural partition"
   ]
  },
  {
   "cell_type": "code",
   "execution_count": 7,
   "id": "92186a64",
   "metadata": {},
   "outputs": [],
   "source": [
    "p=datasets.VehicleLoanDefaultDataset().natural_partition"
   ]
  },
  {
   "cell_type": "code",
   "execution_count": 8,
   "id": "308f2232",
   "metadata": {},
   "outputs": [
    {
     "data": {
      "text/plain": [
       "<Figure size 640x480 with 0 Axes>"
      ]
     },
     "metadata": {},
     "output_type": "display_data"
    }
   ],
   "source": [
    "utils.visualize_partition(p,title='Vehicle Loan Default dataset natural partition',fn='tmp/natural_partition_ex.png')"
   ]
  },
  {
   "cell_type": "markdown",
   "id": "f7d5719e",
   "metadata": {},
   "source": [
    "## Summary Table"
   ]
  },
  {
   "cell_type": "code",
   "execution_count": 9,
   "id": "9ccfea44",
   "metadata": {},
   "outputs": [],
   "source": [
    "dataset_classes=inspect.getmembers(sys.modules['datasets'], inspect.isclass)\n",
    "dataset_classes=[(i,j) for i,j in dataset_classes if i!=\"Dataset\"]"
   ]
  },
  {
   "cell_type": "code",
   "execution_count": 19,
   "id": "f0a75d3b",
   "metadata": {
    "scrolled": false
   },
   "outputs": [],
   "source": [
    "datasets_summary=[]\n",
    "\n",
    "for name,dataset_class in dataset_classes:\n",
    "    \n",
    "    dataset=dataset_class()\n",
    "    X,y=dataset.X_y\n",
    "    \n",
    "    # No. of classes\n",
    "    n_classes=np.nan if dataset.task=='regression' else y.nunique()\n",
    "    \n",
    "    # No. of instances and attributes\n",
    "    n_instances,n_attributes=y.size,dataset.load_raw().shape[1]\n",
    "    \n",
    "    # Partitioned on Col\n",
    "    p_on=f'{dataset.partition_on_column} ({len(dataset.natural_partition)})' if hasattr(dataset,'partition_on_column') else '-'\n",
    "    \n",
    "    datasets_summary.append([dataset,dataset.task,n_instances,n_attributes,n_classes,p_on])    "
   ]
  },
  {
   "cell_type": "code",
   "execution_count": 20,
   "id": "55a73c22",
   "metadata": {
    "scrolled": false
   },
   "outputs": [
    {
     "data": {
      "text/html": [
       "<div>\n",
       "<style scoped>\n",
       "    .dataframe tbody tr th:only-of-type {\n",
       "        vertical-align: middle;\n",
       "    }\n",
       "\n",
       "    .dataframe tbody tr th {\n",
       "        vertical-align: top;\n",
       "    }\n",
       "\n",
       "    .dataframe thead th {\n",
       "        text-align: right;\n",
       "    }\n",
       "</style>\n",
       "<table border=\"1\" class=\"dataframe\">\n",
       "  <thead>\n",
       "    <tr style=\"text-align: right;\">\n",
       "      <th></th>\n",
       "      <th>dataset</th>\n",
       "      <th>task</th>\n",
       "      <th>N</th>\n",
       "      <th># of attributes</th>\n",
       "      <th># of classes</th>\n",
       "      <th>partitioned on</th>\n",
       "    </tr>\n",
       "  </thead>\n",
       "  <tbody>\n",
       "    <tr>\n",
       "      <th>1</th>\n",
       "      <td>Census Income</td>\n",
       "      <td>Classification</td>\n",
       "      <td>32k</td>\n",
       "      <td>15</td>\n",
       "      <td>2.0</td>\n",
       "      <td>native-country (3)</td>\n",
       "    </tr>\n",
       "    <tr>\n",
       "      <th>2</th>\n",
       "      <td>Cover Type</td>\n",
       "      <td>Classification</td>\n",
       "      <td>495k</td>\n",
       "      <td>55</td>\n",
       "      <td>2.0</td>\n",
       "      <td>-</td>\n",
       "    </tr>\n",
       "    <tr>\n",
       "      <th>3</th>\n",
       "      <td>Credit Card Default</td>\n",
       "      <td>Classification</td>\n",
       "      <td>30k</td>\n",
       "      <td>25</td>\n",
       "      <td>2.0</td>\n",
       "      <td>-</td>\n",
       "    </tr>\n",
       "    <tr>\n",
       "      <th>7</th>\n",
       "      <td>Hotel Reservations</td>\n",
       "      <td>Classification</td>\n",
       "      <td>36k</td>\n",
       "      <td>19</td>\n",
       "      <td>2.0</td>\n",
       "      <td>-</td>\n",
       "    </tr>\n",
       "    <tr>\n",
       "      <th>9</th>\n",
       "      <td>Vehicle Loan Default</td>\n",
       "      <td>Classification</td>\n",
       "      <td>95k</td>\n",
       "      <td>41</td>\n",
       "      <td>2.0</td>\n",
       "      <td>branch_id (12)</td>\n",
       "    </tr>\n",
       "    <tr>\n",
       "      <th>0</th>\n",
       "      <td>Black Friday</td>\n",
       "      <td>Regression</td>\n",
       "      <td>550k</td>\n",
       "      <td>12</td>\n",
       "      <td>-</td>\n",
       "      <td>City_Category (3)</td>\n",
       "    </tr>\n",
       "    <tr>\n",
       "      <th>4</th>\n",
       "      <td>Diamonds</td>\n",
       "      <td>Regression</td>\n",
       "      <td>53k</td>\n",
       "      <td>10</td>\n",
       "      <td>-</td>\n",
       "      <td>-</td>\n",
       "    </tr>\n",
       "    <tr>\n",
       "      <th>5</th>\n",
       "      <td>Flight Price</td>\n",
       "      <td>Regression</td>\n",
       "      <td>300k</td>\n",
       "      <td>12</td>\n",
       "      <td>-</td>\n",
       "      <td>airline (6)</td>\n",
       "    </tr>\n",
       "    <tr>\n",
       "      <th>6</th>\n",
       "      <td>Fried</td>\n",
       "      <td>Regression</td>\n",
       "      <td>40k</td>\n",
       "      <td>11</td>\n",
       "      <td>-</td>\n",
       "      <td>-</td>\n",
       "    </tr>\n",
       "    <tr>\n",
       "      <th>8</th>\n",
       "      <td>Vehicle</td>\n",
       "      <td>Regression</td>\n",
       "      <td>30k</td>\n",
       "      <td>26</td>\n",
       "      <td>-</td>\n",
       "      <td>state (9)</td>\n",
       "    </tr>\n",
       "  </tbody>\n",
       "</table>\n",
       "</div>"
      ],
      "text/plain": [
       "                dataset            task     N  # of attributes # of classes  \\\n",
       "1         Census Income  Classification   32k               15          2.0   \n",
       "2            Cover Type  Classification  495k               55          2.0   \n",
       "3   Credit Card Default  Classification   30k               25          2.0   \n",
       "7    Hotel Reservations  Classification   36k               19          2.0   \n",
       "9  Vehicle Loan Default  Classification   95k               41          2.0   \n",
       "0          Black Friday      Regression  550k               12            -   \n",
       "4              Diamonds      Regression   53k               10            -   \n",
       "5          Flight Price      Regression  300k               12            -   \n",
       "6                 Fried      Regression   40k               11            -   \n",
       "8               Vehicle      Regression   30k               26            -   \n",
       "\n",
       "       partitioned on  \n",
       "1  native-country (3)  \n",
       "2                   -  \n",
       "3                   -  \n",
       "7                   -  \n",
       "9      branch_id (12)  \n",
       "0   City_Category (3)  \n",
       "4                   -  \n",
       "5         airline (6)  \n",
       "6                   -  \n",
       "8           state (9)  "
      ]
     },
     "execution_count": 20,
     "metadata": {},
     "output_type": "execute_result"
    }
   ],
   "source": [
    "datasets_df=pd.DataFrame(\n",
    "    datasets_summary,\n",
    "    columns=['dataset','task','N','# of attributes','# of classes','partitioned on']\n",
    ").sort_values('task')\n",
    "\n",
    "datasets_df=datasets_df.fillna('-')\n",
    "datasets_df['task']=datasets_df['task'].str.title()\n",
    "datasets_df['N']=((datasets_df['N']/1000).astype('int')).astype('str')+'k'\n",
    "datasets_df"
   ]
  },
  {
   "cell_type": "code",
   "execution_count": 21,
   "id": "f470f689",
   "metadata": {},
   "outputs": [],
   "source": [
    "datasets_df.to_csv('tmp/datasets_df.csv',index=False)"
   ]
  },
  {
   "cell_type": "code",
   "execution_count": 22,
   "id": "27f6b2a9",
   "metadata": {},
   "outputs": [],
   "source": [
    "os.makedirs('tmp/setup/',exist_ok=True)"
   ]
  },
  {
   "cell_type": "markdown",
   "id": "31b8aafe",
   "metadata": {},
   "source": [
    "## PowN Partition Example"
   ]
  },
  {
   "cell_type": "code",
   "execution_count": 24,
   "id": "099406f7",
   "metadata": {},
   "outputs": [],
   "source": [
    "X,y=datasets.VehicleLoanDefaultDataset().X_y"
   ]
  },
  {
   "cell_type": "code",
   "execution_count": 25,
   "id": "119b53d2",
   "metadata": {},
   "outputs": [],
   "source": [
    "def power_partitions_(c,a):\n",
    "    partition={i:(X.iloc[ixs],y.iloc[ixs]) for i,ixs in partitions.power_partition_n(y,c,a).items()}\n",
    "    xs,ys=[],[]\n",
    "    p=sorted(partition,key=lambda i:len(partition[i][1]))\n",
    "    for island in p:\n",
    "        xs.append(str(island))\n",
    "        ys.append(len(partition[island][1]))\n",
    "    return xs,ys"
   ]
  },
  {
   "cell_type": "code",
   "execution_count": 30,
   "id": "881af746",
   "metadata": {},
   "outputs": [
    {
     "data": {
      "image/png": "[encoded data removed]",
      "text/plain": [
       "<Figure size 1000x200 with 4 Axes>"
      ]
     },
     "metadata": {},
     "output_type": "display_data"
    }
   ],
   "source": [
    "# Create two subplots and unpack the output array immediately\n",
    "f, (ax1, ax2, ax3, ax4) = plt.subplots(1, 4, sharey=True,sharex=True,figsize=(10,2))\n",
    "\n",
    "for ax, a in zip([ax1, ax2, ax3, ax4],[0.25,0.50,0.75,1.0]):\n",
    "    \n",
    "    xs,ys=power_partitions_(10,a)\n",
    "    ax.barh(xs, ys)\n",
    "    ax.set_yticks([])\n",
    "    ax.set_title(f'a = {a:.2f}')\n",
    "    \n",
    "f.suptitle(r'Vehicle Loan Default dataset partitioned with $PowN(a,10)$',y=1.20)\n",
    "f.supylabel('Islands',x=0.1)\n",
    "f.supxlabel('Number of data points',y=-0.20)\n",
    "\n",
    "f.savefig('tmp/setup/powN.png',bbox_inches='tight')\n",
    "    "
   ]
  },
  {
   "cell_type": "markdown",
   "id": "f5db19b9",
   "metadata": {},
   "source": [
    "## DirY Partition Example"
   ]
  },
  {
   "cell_type": "code",
   "execution_count": 16,
   "id": "dcaaf610",
   "metadata": {},
   "outputs": [],
   "source": [
    "X,y=datasets.VehicleLoanDefaultDataset().X_y"
   ]
  },
  {
   "cell_type": "code",
   "execution_count": 17,
   "id": "eef05478",
   "metadata": {},
   "outputs": [],
   "source": [
    "def dir_partitions_(c,alpha,y,X):\n",
    "    partition={i:(X.iloc[ixs],y.iloc[ixs]) for i,ixs in partitions.dirichlet_partition(y,c,alpha).items()}\n",
    "\n",
    "    _,yAll=utils.join_partitions(partition,partition.keys())\n",
    "    labels=yAll.unique()\n",
    "        \n",
    "    clients=list(partition.keys())\n",
    "\n",
    "    # Class -> array with no. of elements of class per client\n",
    "    # E.g. 0 -> [100,200,300] implies client 0 has 100 class 0 examples and so on\n",
    "\n",
    "    class_client_counts={label:[] for label in labels}\n",
    "\n",
    "    for label in labels:\n",
    "        counts_all=np.zeros(len(clients))\n",
    "        for c,(client,(_,y)) in enumerate(partition.items()):\n",
    "            counts_all[c]=(y==label).sum()\n",
    "        \n",
    "        class_client_counts[label]=counts_all\n",
    "    \n",
    "    return clients,class_client_counts\n",
    "    "
   ]
  },
  {
   "cell_type": "code",
   "execution_count": 18,
   "id": "6af935ee",
   "metadata": {
    "scrolled": false
   },
   "outputs": [
    {
     "data": {
      "image/png": "[encoded data removed]",
      "text/plain": [
       "<Figure size 1000x200 with 4 Axes>"
      ]
     },
     "metadata": {},
     "output_type": "display_data"
    }
   ],
   "source": [
    "# Create two subplots and unpack the output array immediately\n",
    "f, (ax1, ax2, ax3, ax4) = plt.subplots(1, 4, sharey=True,sharex=True,figsize=(10,2))\n",
    "\n",
    "\n",
    "alpha=0.5\n",
    "clients,class_client_counts=dir_partitions_(10,alpha,y,X)\n",
    "prev=None\n",
    "for k,v in class_client_counts.items():\n",
    "    ax1.barh(clients, v,label=k,left=prev)\n",
    "    ax1.set_yticks([])\n",
    "    prev=v\n",
    "ax1.set_title(r'$\\alpha$'+f' = {alpha}')\n",
    "\n",
    "alpha=1\n",
    "clients,class_client_counts=dir_partitions_(10,alpha,y,X)\n",
    "prev=None\n",
    "for k,v in class_client_counts.items():\n",
    "    ax2.barh(clients, v,label=k,left=prev)\n",
    "    prev=v\n",
    "ax2.set_title(r'$\\alpha$'+f' = {alpha}')\n",
    "\n",
    "\n",
    "alpha=10\n",
    "clients,class_client_counts=dir_partitions_(10,alpha,y,X)\n",
    "prev=None\n",
    "for k,v in class_client_counts.items():\n",
    "    ax3.barh(clients, v,label=k,left=prev)\n",
    "    prev=v\n",
    "ax3.set_title(r'$\\alpha$'+f' = {alpha}')\n",
    "\n",
    "alpha=10000\n",
    "clients,class_client_counts=dir_partitions_(10,alpha,y,X)\n",
    "prev=None\n",
    "for k,v in class_client_counts.items():\n",
    "    ax4.barh(clients, v,label=k,left=prev)\n",
    "    prev=v\n",
    "ax4.set_title(r'$\\alpha$'+f' = {alpha}')\n",
    "\n",
    "f.suptitle(r'Vehicle Loan Default dataset partitioned with Dir($\\alpha$,10)',y=1.20)\n",
    "f.supylabel('Islands',x=0.1)\n",
    "f.supxlabel('Class distribution',y=-0.20)\n",
    "\n",
    "f.savefig('tmp/setup/dirY.png',bbox_inches='tight')\n"
   ]
  }
 ],
 "metadata": {
  "kernelspec": {
   "display_name": "Python 3 (ipykernel)",
   "language": "python",
   "name": "python3"
  },
  "language_info": {
   "codemirror_mode": {
    "name": "ipython",
    "version": 3
   },
   "file_extension": ".py",
   "mimetype": "text/x-python",
   "name": "python",
   "nbconvert_exporter": "python",
   "pygments_lexer": "ipython3",
   "version": "3.9.6"
  }
 },
 "nbformat": 4,
 "nbformat_minor": 5
}
